{
 "cells": [
  {
   "cell_type": "code",
   "execution_count": 1,
   "id": "3529d801-0aef-45c4-bb8c-49691a611ebe",
   "metadata": {},
   "outputs": [],
   "source": [
    "import Daxes as dxs\n",
    "from sys import path\n",
    "import pandas as pd\n",
    "path.append('\\\\Program Files\\\\Microsoft.NET\\\\ADOMD.NET\\\\150')\n",
    "\n",
    "from pyadomd import Pyadomd"
   ]
  },
  {
   "cell_type": "code",
   "execution_count": 2,
   "id": "687510af-5f3e-4fac-9747-335ac42d352c",
   "metadata": {},
   "outputs": [],
   "source": [
    "def Query_SSAS(Query):\n",
    "    query = Query\n",
    "    conn_str = 'Provider=MSOLAP;Data Source=TXBI-DWA-02\\TXBIDB;Catalog=TaxVat_All_in;'\n",
    "    \n",
    "    with Pyadomd(conn_str) as conn:\n",
    "        with conn.cursor().execute(query) as cur:\n",
    "            df = pd.DataFrame(cur.fetchone(), columns=[i.name for i in cur.description])\n",
    "            return df\n"
   ]
  },
  {
   "cell_type": "code",
   "execution_count": 3,
   "id": "60bd498e-75a1-4dce-8bd4-84a89583c4ed",
   "metadata": {},
   "outputs": [
    {
     "data": {
      "text/html": [
       "<div>\n",
       "<style scoped>\n",
       "    .dataframe tbody tr th:only-of-type {\n",
       "        vertical-align: middle;\n",
       "    }\n",
       "\n",
       "    .dataframe tbody tr th {\n",
       "        vertical-align: top;\n",
       "    }\n",
       "\n",
       "    .dataframe thead th {\n",
       "        text-align: right;\n",
       "    }\n",
       "</style>\n",
       "<table border=\"1\" class=\"dataframe\">\n",
       "  <thead>\n",
       "    <tr style=\"text-align: right;\">\n",
       "      <th></th>\n",
       "      <th>Daxes</th>\n",
       "    </tr>\n",
       "    <tr>\n",
       "      <th>ID</th>\n",
       "      <th></th>\n",
       "    </tr>\n",
       "  </thead>\n",
       "  <tbody>\n",
       "    <tr>\n",
       "      <th>43</th>\n",
       "      <td>// DAX Query 43\\nDEFINE\\n//var _tp=@taxPeriodK...</td>\n",
       "    </tr>\n",
       "    <tr>\n",
       "      <th>44</th>\n",
       "      <td>// DAX Query 44\\nDEFINE\\n//var _tp=@taxPeriodK...</td>\n",
       "    </tr>\n",
       "    <tr>\n",
       "      <th>45</th>\n",
       "      <td>// DAX Query 45\\nDEFINE\\n//var _tp=@taxPeriodK...</td>\n",
       "    </tr>\n",
       "    <tr>\n",
       "      <th>46</th>\n",
       "      <td>// DAX Query 46\\nDEFINE\\n//var _tp=@taxPeriodK...</td>\n",
       "    </tr>\n",
       "    <tr>\n",
       "      <th>47</th>\n",
       "      <td>// DAX Query 47\\nDEFINE\\n // var _tp=@taxPerio...</td>\n",
       "    </tr>\n",
       "    <tr>\n",
       "      <th>48</th>\n",
       "      <td>// DAX Query 48\\nDEFINE\\n  //var _tp=@taxPerio...</td>\n",
       "    </tr>\n",
       "    <tr>\n",
       "      <th>49</th>\n",
       "      <td>// DAX Query 49\\nDEFINE\\n//var _tp=@taxPeriodK...</td>\n",
       "    </tr>\n",
       "    <tr>\n",
       "      <th>50</th>\n",
       "      <td>// DAX Query 50\\nDEFINE\\n  //var _tp=@taxPerio...</td>\n",
       "    </tr>\n",
       "    <tr>\n",
       "      <th>51</th>\n",
       "      <td>// DAX Query 51\\nDEFINE\\n //var _tp=@taxPeriod...</td>\n",
       "    </tr>\n",
       "    <tr>\n",
       "      <th>52</th>\n",
       "      <td>// DAX Query 52\\nDEFINE\\n  //var _tp=@taxPerio...</td>\n",
       "    </tr>\n",
       "  </tbody>\n",
       "</table>\n",
       "</div>"
      ],
      "text/plain": [
       "                                                Daxes\n",
       "ID                                                   \n",
       "43  // DAX Query 43\\nDEFINE\\n//var _tp=@taxPeriodK...\n",
       "44  // DAX Query 44\\nDEFINE\\n//var _tp=@taxPeriodK...\n",
       "45  // DAX Query 45\\nDEFINE\\n//var _tp=@taxPeriodK...\n",
       "46  // DAX Query 46\\nDEFINE\\n//var _tp=@taxPeriodK...\n",
       "47  // DAX Query 47\\nDEFINE\\n // var _tp=@taxPerio...\n",
       "48  // DAX Query 48\\nDEFINE\\n  //var _tp=@taxPerio...\n",
       "49  // DAX Query 49\\nDEFINE\\n//var _tp=@taxPeriodK...\n",
       "50  // DAX Query 50\\nDEFINE\\n  //var _tp=@taxPerio...\n",
       "51  // DAX Query 51\\nDEFINE\\n //var _tp=@taxPeriod...\n",
       "52  // DAX Query 52\\nDEFINE\\n  //var _tp=@taxPerio..."
      ]
     },
     "execution_count": 3,
     "metadata": {},
     "output_type": "execute_result"
    }
   ],
   "source": [
    "\n",
    "\n",
    "df = pd.DataFrame({'ID':dxs.All_Ids,'Daxes':dxs.All_Daxes})\n",
    "df.set_index('ID',inplace=True)\n",
    "df.head(10)"
   ]
  },
  {
   "cell_type": "code",
   "execution_count": 4,
   "id": "2f1065c8-c6f8-49fd-a96c-4f40c03e28ce",
   "metadata": {
    "tags": []
   },
   "outputs": [],
   "source": [
    "for i, row in df.iterrows():\n",
    "    Query_SSAS(row.Daxes).to_csv('Dax_Number_{}.csv'.format(i))"
   ]
  },
  {
   "cell_type": "code",
   "execution_count": null,
   "id": "94c915b9-fe05-41f3-bf01-6ad98a036b48",
   "metadata": {},
   "outputs": [],
   "source": [
    "\n"
   ]
  },
  {
   "cell_type": "code",
   "execution_count": null,
   "id": "57ad40bd-5488-4533-8be9-e23a0ded6b04",
   "metadata": {
    "tags": []
   },
   "outputs": [],
   "source": [
    "from unicodedata import name\n",
    "\n",
    "for dx in df.Daxes:\n",
    "    rs=Query_SSAS(dx)\n",
    "    rs.head()"
   ]
  },
  {
   "cell_type": "code",
   "execution_count": null,
   "id": "0a876891-21fd-4c53-b890-633f71d96621",
   "metadata": {},
   "outputs": [],
   "source": []
  },
  {
   "cell_type": "code",
   "execution_count": null,
   "id": "f3d7ea0b-dcbf-4856-a240-6ea04ad517e8",
   "metadata": {},
   "outputs": [],
   "source": []
  },
  {
   "cell_type": "code",
   "execution_count": null,
   "id": "6ac4d449-ad71-44b0-80f6-8fe176bf484b",
   "metadata": {},
   "outputs": [],
   "source": []
  },
  {
   "cell_type": "code",
   "execution_count": null,
   "id": "83032cf5-e5b0-438d-b1cc-9fb0513432d5",
   "metadata": {},
   "outputs": [],
   "source": []
  },
  {
   "cell_type": "code",
   "execution_count": null,
   "id": "acd996dc-71ba-43aa-91e3-4c4ba1aca739",
   "metadata": {},
   "outputs": [],
   "source": []
  }
 ],
 "metadata": {
  "kernelspec": {
   "display_name": "Python 3.9.12 ('base')",
   "language": "python",
   "name": "python3"
  },
  "language_info": {
   "codemirror_mode": {
    "name": "ipython",
    "version": 3
   },
   "file_extension": ".py",
   "mimetype": "text/x-python",
   "name": "python",
   "nbconvert_exporter": "python",
   "pygments_lexer": "ipython3",
   "version": "3.9.12"
  },
  "vscode": {
   "interpreter": {
    "hash": "ad2bdc8ecc057115af97d19610ffacc2b4e99fae6737bb82f5d7fb13d2f2c186"
   }
  }
 },
 "nbformat": 4,
 "nbformat_minor": 5
}
