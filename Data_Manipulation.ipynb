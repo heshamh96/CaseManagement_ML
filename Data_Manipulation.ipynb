{
 "cells": [
  {
   "cell_type": "code",
   "execution_count": 3,
   "metadata": {},
   "outputs": [],
   "source": [
    "import findspark\n",
    "findspark.init()\n",
    "import pyspark.sql as sdf\n",
    "import pyspark.pandas as pds"
   ]
  },
  {
   "cell_type": "code",
   "execution_count": 4,
   "metadata": {},
   "outputs": [],
   "source": [
    "spark = sdf.SparkSession.builder.appName(\"7amada\").config(\"spark.sql.execution.arrow.pyspark.enabled\", \"true\").getOrCreate()"
   ]
  },
  {
   "cell_type": "code",
   "execution_count": 5,
   "metadata": {},
   "outputs": [
    {
     "data": {
      "text/html": [
       "\n",
       "            <div>\n",
       "                <p><b>SparkSession - in-memory</b></p>\n",
       "                \n",
       "        <div>\n",
       "            <p><b>SparkContext</b></p>\n",
       "\n",
       "            <p><a href=\"http://TXBI-DWA-01.CLOUD.LOCAL:4040\">Spark UI</a></p>\n",
       "\n",
       "            <dl>\n",
       "              <dt>Version</dt>\n",
       "                <dd><code>v3.3.0</code></dd>\n",
       "              <dt>Master</dt>\n",
       "                <dd><code>local[*]</code></dd>\n",
       "              <dt>AppName</dt>\n",
       "                <dd><code>7amada</code></dd>\n",
       "            </dl>\n",
       "        </div>\n",
       "        \n",
       "            </div>\n",
       "        "
      ],
      "text/plain": [
       "<pyspark.sql.session.SparkSession at 0x257ffacdae0>"
      ]
     },
     "execution_count": 5,
     "metadata": {},
     "output_type": "execute_result"
    }
   ],
   "source": [
    "spark\n"
   ]
  },
  {
   "cell_type": "code",
   "execution_count": 6,
   "metadata": {},
   "outputs": [
    {
     "name": "stderr",
     "output_type": "stream",
     "text": [
      "C:\\Spark\\spark-3.3.0-bin-hadoop3\\python\\pyspark\\pandas\\utils.py:975: PandasAPIOnSparkAdviceWarning: If `index_col` is not specified for `read_csv`, the default index is attached which can cause additional overhead.\n",
      "  warnings.warn(message, PandasAPIOnSparkAdviceWarning)\n"
     ]
    }
   ],
   "source": [
    "all_Data_from_Dax=pds.read_csv(\"El_Ma3ayeer/*.csv\")"
   ]
  },
  {
   "cell_type": "code",
   "execution_count": 9,
   "metadata": {},
   "outputs": [
    {
     "data": {
      "text/plain": [
       "['_c0',\n",
       " 'UniqueTaxId',\n",
       " 'Name',\n",
       " 'Address',\n",
       " 'Period',\n",
       " 'RegionId',\n",
       " 'District',\n",
       " 'PurchaseInOtherSalesTax',\n",
       " 'SalesInOtherPurchasesTax',\n",
       " 'TaxLoss',\n",
       " 'Activity',\n",
       " 'ActivityL2',\n",
       " 'DeclarationID',\n",
       " 'Dec_ID_S',\n",
       " 'TaxPayerID',\n",
       " 'PurchasesInOtherSales',\n",
       " 'SalesInvoicesCountInOthers',\n",
       " 'PurchaseInvoiceCountInOthers',\n",
       " 'SalesInOtherPurchases',\n",
       " 'DeclaredSalesTax']"
      ]
     },
     "execution_count": 9,
     "metadata": {},
     "output_type": "execute_result"
    }
   ],
   "source": [
    "all_Data_from_Dax.columns = ['_c0',\n",
    " 'UniqueTaxId',\n",
    " 'Name',\n",
    " 'Address',\n",
    " 'Period',\n",
    " 'RegionId',\n",
    " 'District',\n",
    " 'PurchaseInOtherSalesTax',\n",
    " 'SalesInOtherPurchasesTax',\n",
    " 'TaxLoss',\n",
    " 'Activity',\n",
    " 'ActivityL2',\n",
    " 'DeclarationID',\n",
    " \"Dec_ID_S\",\n",
    " 'TaxPayerID',\n",
    " 'PurchasesInOtherSales',\n",
    " 'SalesInvoicesCountInOthers',\n",
    " 'PurchaseInvoiceCountInOthers',\n",
    " 'SalesInOtherPurchases',\n",
    " 'DeclaredSalesTax']\n",
    "\n",
    "lol = all_Data_from_Dax.to_spark()\n",
    "\n",
    "lol.columns"
   ]
  },
  {
   "cell_type": "code",
   "execution_count": 12,
   "metadata": {},
   "outputs": [
    {
     "name": "stdout",
     "output_type": "stream",
     "text": [
      "+---+-----------+--------------------+--------------------+--------+--------+--------+-----------------------+------------------------+----------+---------+----------+-------------+--------+----------+---------------------+--------------------------+----------------------------+---------------------+----------------+\n",
      "|_c0|UniqueTaxId|                Name|             Address|  Period|RegionId|District|PurchaseInOtherSalesTax|SalesInOtherPurchasesTax|   TaxLoss| Activity|ActivityL2|DeclarationID|Dec_ID_S|TaxPayerID|PurchasesInOtherSales|SalesInvoicesCountInOthers|PurchaseInvoiceCountInOthers|SalesInOtherPurchases|DeclaredSalesTax|\n",
      "+---+-----------+--------------------+--------------------+--------+--------+--------+-----------------------+------------------------+----------+---------+----------+-------------+--------+----------+---------------------+--------------------------+----------------------------+---------------------+----------------+\n",
      "|  0|  100063721|      محسن يوسف طاهر|3 شارع عبد المنعم...|201912.0|       3|      10|                    0.0|                 45045.0|   45045.0|غير معلوم| غير معلوم|            0|       0|         0|                    0|                         0|                           0|                    0|               0|\n",
      "|  1|  333212584|انتصار احمد شبانه...|السلام الجديد ع 1...|201912.0|       9|      53|                    0.0|                  7434.0|    7434.0|غير معلوم| غير معلوم|            0|       0|         0|                    0|                         0|                           0|                    0|               0|\n",
      "|  2|  552611336|اليكتروجيت لتجارة...|محل رقم 22 الصفا ...|201912.0|      22|      43|                    0.0|                  2924.6|    2924.6|غير معلوم| غير معلوم|            0|       0|         0|                    0|                         0|                           0|                    0|               0|\n",
      "|  3|  472594680|العالمية لهندسة ا...|104شارع السودان -...|201912.0|       3|      11|               10425.37|                33672.02|  33672.02|غير معلوم| غير معلوم|            0|       0|         0|                    0|                         0|                           0|                    0|               0|\n",
      "|  4|  349923779|عمر السيد السيد س...|شقة 8دور2مساكن بن...|201912.0|       9|      53|                    0.0|               163310.14| 163310.14|غير معلوم| غير معلوم|            0|       0|         0|                    0|                         0|                           0|                    0|               0|\n",
      "|  5|  313616027|احمد مصطفى عبد ال...|    ديرب نجم - شرقية|201912.0|      18|      42|                    0.0|                5897.024|  5897.024|غير معلوم| غير معلوم|            0|       0|         0|                    0|                         0|                           0|                    0|               0|\n",
      "|  6|  520704193| مهدي عبدالحميد ب...|كفرالشيخ روينة ال...|201912.0|      12|      73|     233088.66000000003|              319522.884|319522.884|غير معلوم| غير معلوم|            0|       0|         0|                    0|                         0|                           0|                    0|               0|\n",
      "|  7|  237559137|       فرج مصطفى فرج|شرق السكه الحديد_...|201912.0|       4|      15|                    0.0|                 3576.64|   3576.64|غير معلوم| غير معلوم|            0|       0|         0|                    0|                         0|                           0|                    0|               0|\n",
      "|  8|  557997828|نجلاء حامد اسماعي...|15 مساكن  الضباط ...|201912.0|      10|      60|                    0.0|                32805.09|  32805.09|غير معلوم| غير معلوم|            0|       0|         0|                    0|                         0|                           0|                    0|               0|\n",
      "|  9|  447654284|احمد محمد صلاح ال...|بنها عزبة السوق خ...|201912.0|      23|      41|                    0.0|                  1917.0|    1917.0|غير معلوم| غير معلوم|            0|       0|         0|                    0|                         0|                           0|                    0|               0|\n",
      "+---+-----------+--------------------+--------------------+--------+--------+--------+-----------------------+------------------------+----------+---------+----------+-------------+--------+----------+---------------------+--------------------------+----------------------------+---------------------+----------------+\n",
      "only showing top 10 rows\n",
      "\n"
     ]
    }
   ],
   "source": [
    "lol.createOrReplaceTempView('Frauds')\n",
    "lol.show(10)"
   ]
  },
  {
   "cell_type": "code",
   "execution_count": 22,
   "metadata": {},
   "outputs": [],
   "source": [
    "rs = spark.sql(\n",
    "#'''select UniqueTaxId , Count(*) as cnt from Frauds group by UniqueTaxId order by Count(*) desc'''\n",
    " ''' select * from (\n",
    " select row_number() over (partition by UniqueTaxId order by TaxLoss desc) as rn , * from Frauds ) as a\n",
    " where rn = 1'''\n",
    "    )\n"
   ]
  },
  {
   "cell_type": "code",
   "execution_count": 24,
   "metadata": {},
   "outputs": [
    {
     "data": {
      "text/plain": [
       "(203146, 21)"
      ]
     },
     "execution_count": 24,
     "metadata": {},
     "output_type": "execute_result"
    }
   ],
   "source": [
    "rs.pandas_api().shape"
   ]
  },
  {
   "cell_type": "code",
   "execution_count": 25,
   "metadata": {},
   "outputs": [],
   "source": [
    "spark.stop()"
   ]
  },
  {
   "cell_type": "code",
   "execution_count": null,
   "metadata": {},
   "outputs": [],
   "source": []
  },
  {
   "cell_type": "code",
   "execution_count": null,
   "metadata": {},
   "outputs": [],
   "source": []
  },
  {
   "cell_type": "code",
   "execution_count": null,
   "metadata": {},
   "outputs": [],
   "source": []
  },
  {
   "cell_type": "code",
   "execution_count": null,
   "metadata": {},
   "outputs": [],
   "source": []
  }
 ],
 "metadata": {
  "kernelspec": {
   "display_name": "Python 3.10.6 ('Spark_env': venv)",
   "language": "python",
   "name": "python3"
  },
  "language_info": {
   "codemirror_mode": {
    "name": "ipython",
    "version": 3
   },
   "file_extension": ".py",
   "mimetype": "text/x-python",
   "name": "python",
   "nbconvert_exporter": "python",
   "pygments_lexer": "ipython3",
   "version": "3.10.6"
  },
  "orig_nbformat": 4,
  "vscode": {
   "interpreter": {
    "hash": "d24f32f4ed89a7741432d3084bbabbeebad35a85b2d888e27158493c88d15cb7"
   }
  }
 },
 "nbformat": 4,
 "nbformat_minor": 2
}
